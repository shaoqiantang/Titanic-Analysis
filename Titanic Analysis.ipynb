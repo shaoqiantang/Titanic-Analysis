{
  "cells": [
    {
      "metadata": {
        "_cell_guid": "cb1d7edb-4450-427f-98b4-4aee5c3713e3",
        "_uuid": "2fecf9bc6959cf070c2feea4573f1f61d2ccbe4c",
        "trusted": true
      },
      "cell_type": "code",
      "source": "# This Python 3 environment comes with many helpful analytics libraries installed\n# It is defined by the kaggle/python docker image: https://github.com/kaggle/docker-python\n# For example, here's several helpful packages to load in \n\nimport numpy as np # linear algebra\nimport pandas as pd # data processing, CSV file I/O (e.g. pd.read_csv)\n\n# Input data files are available in the \"../input/\" directory.\n# For example, running this (by clicking run or pressing Shift+Enter) will list the files in the input directory\n\nfrom subprocess import check_output\nprint(check_output([\"ls\", \"../input\"]).decode(\"utf8\"))\n\n# Any results you write to the current directory are saved as output.\n\ntrain = pd.read_csv('../input/train.csv')\nholdout = pd.read_csv('../input/test.csv')",
      "execution_count": 1,
      "outputs": [
        {
          "name": "stdout",
          "output_type": "stream",
          "text": "gender_submission.csv\ntest.csv\ntrain.csv\n\n"
        }
      ]
    },
    {
      "metadata": {
        "_cell_guid": "d4ee937c-e20c-43c1-bbdb-22ae60deb5be",
        "_uuid": "b1b8ae46db56099d70300b54c6a612f15f53fbc3"
      },
      "cell_type": "markdown",
      "source": "**Dataset Overview**"
    },
    {
      "metadata": {
        "_cell_guid": "c14be6a3-2fab-4b81-a0cc-5f5288cae982",
        "_uuid": "2d038a3292aa56185370edebdbc46a91510d8a9a",
        "trusted": true
      },
      "cell_type": "code",
      "source": "train.head()",
      "execution_count": 2,
      "outputs": [
        {
          "data": {
            "text/html": "<div>\n<style>\n    .dataframe thead tr:only-child th {\n        text-align: right;\n    }\n\n    .dataframe thead th {\n        text-align: left;\n    }\n\n    .dataframe tbody tr th {\n        vertical-align: top;\n    }\n</style>\n<table border=\"1\" class=\"dataframe\">\n  <thead>\n    <tr style=\"text-align: right;\">\n      <th></th>\n      <th>PassengerId</th>\n      <th>Survived</th>\n      <th>Pclass</th>\n      <th>Name</th>\n      <th>Sex</th>\n      <th>Age</th>\n      <th>SibSp</th>\n      <th>Parch</th>\n      <th>Ticket</th>\n      <th>Fare</th>\n      <th>Cabin</th>\n      <th>Embarked</th>\n    </tr>\n  </thead>\n  <tbody>\n    <tr>\n      <th>0</th>\n      <td>1</td>\n      <td>0</td>\n      <td>3</td>\n      <td>Braund, Mr. Owen Harris</td>\n      <td>male</td>\n      <td>22.0</td>\n      <td>1</td>\n      <td>0</td>\n      <td>A/5 21171</td>\n      <td>7.2500</td>\n      <td>NaN</td>\n      <td>S</td>\n    </tr>\n    <tr>\n      <th>1</th>\n      <td>2</td>\n      <td>1</td>\n      <td>1</td>\n      <td>Cumings, Mrs. John Bradley (Florence Briggs Th...</td>\n      <td>female</td>\n      <td>38.0</td>\n      <td>1</td>\n      <td>0</td>\n      <td>PC 17599</td>\n      <td>71.2833</td>\n      <td>C85</td>\n      <td>C</td>\n    </tr>\n    <tr>\n      <th>2</th>\n      <td>3</td>\n      <td>1</td>\n      <td>3</td>\n      <td>Heikkinen, Miss. Laina</td>\n      <td>female</td>\n      <td>26.0</td>\n      <td>0</td>\n      <td>0</td>\n      <td>STON/O2. 3101282</td>\n      <td>7.9250</td>\n      <td>NaN</td>\n      <td>S</td>\n    </tr>\n    <tr>\n      <th>3</th>\n      <td>4</td>\n      <td>1</td>\n      <td>1</td>\n      <td>Futrelle, Mrs. Jacques Heath (Lily May Peel)</td>\n      <td>female</td>\n      <td>35.0</td>\n      <td>1</td>\n      <td>0</td>\n      <td>113803</td>\n      <td>53.1000</td>\n      <td>C123</td>\n      <td>S</td>\n    </tr>\n    <tr>\n      <th>4</th>\n      <td>5</td>\n      <td>0</td>\n      <td>3</td>\n      <td>Allen, Mr. William Henry</td>\n      <td>male</td>\n      <td>35.0</td>\n      <td>0</td>\n      <td>0</td>\n      <td>373450</td>\n      <td>8.0500</td>\n      <td>NaN</td>\n      <td>S</td>\n    </tr>\n  </tbody>\n</table>\n</div>",
            "text/plain": "   PassengerId  Survived  Pclass  \\\n0            1         0       3   \n1            2         1       1   \n2            3         1       3   \n3            4         1       1   \n4            5         0       3   \n\n                                                Name     Sex   Age  SibSp  \\\n0                            Braund, Mr. Owen Harris    male  22.0      1   \n1  Cumings, Mrs. John Bradley (Florence Briggs Th...  female  38.0      1   \n2                             Heikkinen, Miss. Laina  female  26.0      0   \n3       Futrelle, Mrs. Jacques Heath (Lily May Peel)  female  35.0      1   \n4                           Allen, Mr. William Henry    male  35.0      0   \n\n   Parch            Ticket     Fare Cabin Embarked  \n0      0         A/5 21171   7.2500   NaN        S  \n1      0          PC 17599  71.2833   C85        C  \n2      0  STON/O2. 3101282   7.9250   NaN        S  \n3      0            113803  53.1000  C123        S  \n4      0            373450   8.0500   NaN        S  "
          },
          "execution_count": 2,
          "metadata": {},
          "output_type": "execute_result"
        }
      ]
    },
    {
      "metadata": {
        "_cell_guid": "cab03b87-cb75-4c51-975c-55a800f40d99",
        "_uuid": "0490894ae15cfeecf044e6df101a50fad75331bf",
        "collapsed": true
      },
      "cell_type": "markdown",
      "source": "**Preprocessing tha data**"
    },
    {
      "metadata": {
        "_cell_guid": "2b4aa928-fec7-4eb4-82f8-df52825718cf",
        "_uuid": "e626345a1b71debfefdc0b001c9d233f1c4fdc46",
        "collapsed": true,
        "trusted": true
      },
      "cell_type": "code",
      "source": "def preprocess(df):\n# Missing data\n    df[\"Fare\"] = df[\"Fare\"].fillna(train[\"Fare\"].mean())\n    df[\"Embarked\"] = df[\"Embarked\"].fillna(\"S\")\n    \n# Age\n    df[\"Age\"] = df[\"Age\"].fillna(-0.5)\n    cut_points = [-1,0,5,12,18,35,60,100]\n    label_names = [\"Missing\",\"Infant\",\"Child\",\"Teenager\",\"Young Adult\",\"Adult\",\"Senior\"]\n    df[\"Age_categories\"] = pd.cut(df[\"Age\"],cut_points,labels=label_names)\n    \n# Fare\n    cut_points = [-1,12,50,100,1000]\n    label_names = [\"0-12\",\"12-50\",\"50-100\",\"100+\"]\n    df[\"Fare_categories\"] = pd.cut(df[\"Fare\"],cut_points,labels=label_names)\n    \n# Cabin\n    df[\"Cabin_type\"] = df[\"Cabin\"].str[0]\n    df[\"Cabin_type\"] = df[\"Cabin_type\"].fillna(\"Unknown\")\n    df = df.drop('Cabin',axis=1)\n    \n    return df\n\ndef create_dummies(df,column_name):\n    dummies = pd.get_dummies(df[column_name],prefix=column_name)\n    df = pd.concat([df,dummies],axis=1)\n    return df",
      "execution_count": 3,
      "outputs": []
    },
    {
      "metadata": {
        "_cell_guid": "b59d2bfd-daa9-4c4a-a1d7-e8720e784ca4",
        "_uuid": "841fc6ffbcd4a1a64a71ed2b6dc844c8b4425120",
        "collapsed": true,
        "trusted": true
      },
      "cell_type": "code",
      "source": "def preprocess2(df):\n    df = preprocess(df)\n\n    for col in [\"Age_categories\",\"Fare_categories\",\n                \"Cabin_type\",\"Sex\"]:\n        df = create_dummies(df,col)\n    \n    return df\n\ntrain = preprocess2(train)\nholdout = preprocess2(holdout)",
      "execution_count": 4,
      "outputs": []
    },
    {
      "metadata": {
        "_cell_guid": "ca9df792-39eb-492d-9639-458af9ff8ada",
        "_uuid": "9173acbaf2c0187924413c6d3df8c8de69a63471"
      },
      "cell_type": "markdown",
      "source": "**Selecting the Best-Performing Features**"
    },
    {
      "metadata": {
        "_cell_guid": "061febbb-5bab-4f07-b085-e6f51ee292fc",
        "_uuid": "3686d762bd7eaaca43d640735435771c38f3709d",
        "trusted": true
      },
      "cell_type": "code",
      "source": "from sklearn.ensemble import RandomForestClassifier\nfrom sklearn.feature_selection import RFECV\n# select numerical columns and remove columns with null value\ntrain = train.select_dtypes([np.number]).dropna(axis = 1)\nall_X = train.drop([\"PassengerId\",\"Survived\"], axis = 1)\nall_y = train[\"Survived\"]\n\nclf = RandomForestClassifier(random_state = 1)\nselector = RFECV(clf, cv = 10)\nselector.fit(all_X, all_y)\n\nbest_columns = list(all_X.columns[selector.support_])\nprint(best_columns)",
      "execution_count": 5,
      "outputs": [
        {
          "output_type": "stream",
          "text": "['Pclass', 'Age', 'SibSp', 'Parch', 'Fare', 'Age_categories_Missing', 'Age_categories_Infant', 'Age_categories_Child', 'Age_categories_Teenager', 'Age_categories_Young Adult', 'Age_categories_Adult', 'Fare_categories_0-12', 'Fare_categories_12-50', 'Fare_categories_50-100', 'Cabin_type_B', 'Cabin_type_E', 'Cabin_type_Unknown', 'Sex_female', 'Sex_male']\n",
          "name": "stdout"
        }
      ]
    },
    {
      "metadata": {
        "_cell_guid": "3f3fbeaf-ef2c-4691-818f-7d3db404d7bc",
        "_uuid": "a2a0519331fa407066fe40a26e3794994121ddfc"
      },
      "cell_type": "markdown",
      "source": "**Selecting and Tuning Different Algorithms**"
    },
    {
      "metadata": {
        "_cell_guid": "76be03f2-999f-4a51-b5f7-9525d47e46c0",
        "_uuid": "257ad3fdc9452849c10ab1aa8c1f11d432a919e6",
        "trusted": true
      },
      "cell_type": "code",
      "source": "from sklearn.linear_model import LogisticRegression\nfrom sklearn.neighbors import KNeighborsClassifier\nfrom sklearn.model_selection import GridSearchCV\n\nall_X = train[best_columns]\nall_y = train[\"Survived\"]\n\nmodels = [\n        {\n            \"name\": \"LogisticRegression\",\n            \"estimator\": LogisticRegression(),\n            \"hyperparameters\":\n                {\n                    \"solver\": [\"newton-cg\", \"lbfgs\", \"liblinear\"]\n                }\n        },\n        {\n            \"name\": \"KNeighborsClassifier\",\n            \"estimator\": KNeighborsClassifier(),\n            \"hyperparameters\":\n                {\n                    \"n_neighbors\": range(1,20,2),\n                    \"weights\": [\"distance\", \"uniform\"],\n                    \"algorithm\": [\"ball_tree\", \"kd_tree\", \"brute\"],\n                    \"p\": [1,2]\n                }\n        },\n        {\n            \"name\": \"RandomForestClassifier\",\n            \"estimator\": RandomForestClassifier(random_state=1),\n            \"hyperparameters\":\n                {\n                    \"n_estimators\": [4, 6, 9],\n                    \"criterion\": [\"entropy\", \"gini\"],\n                    \"max_depth\": [2, 5, 10],\n                    \"max_features\": [\"log2\", \"sqrt\"],\n                    \"min_samples_leaf\": [1, 5, 8],\n                    \"min_samples_split\": [2, 3, 5]\n\n                }\n        }\n    ]\n\nfor model in models:\n    print(model[\"name\"])\n    print('-'*len(model[\"name\"]))\n    \n    grid = GridSearchCV(model[\"estimator\"],\n                        param_grid=model[\"hyperparameters\"],\n                        cv=10)\n    grid.fit(all_X, all_y)\n    model[\"best_params\"] = grid.best_params_\n    model[\"best_score\"] = grid.best_score_\n    model[\"best_model\"] = grid.best_estimator_\n    \n    print(\"Best Score: {}\".format(model[\"best_score\"]))\n    print(\"Best Params: {}\".format(model[\"best_params\"]))",
      "execution_count": 6,
      "outputs": [
        {
          "output_type": "stream",
          "text": "LogisticRegression\n------------------\nBest Score: 0.8013468013468014\nBest Params: {'solver': 'newton-cg'}\nKNeighborsClassifier\n--------------------\nBest Score: 0.7654320987654321\nBest Params: {'algorithm': 'kd_tree', 'n_neighbors': 11, 'p': 1, 'weights': 'distance'}\nRandomForestClassifier\n----------------------\nBest Score: 0.8316498316498316\nBest Params: {'criterion': 'gini', 'max_depth': 10, 'max_features': 'log2', 'min_samples_leaf': 1, 'min_samples_split': 5, 'n_estimators': 9}\n",
          "name": "stdout"
        }
      ]
    },
    {
      "metadata": {
        "_cell_guid": "acb5b66d-89d9-46fc-8476-63f9a98298f5",
        "_uuid": "6e893b47ea8ba1ab7c569dc744cb4da5f9a73640"
      },
      "cell_type": "markdown",
      "source": "RandomForest model seems to be the best in this case."
    },
    {
      "metadata": {
        "_cell_guid": "6f819d38-a825-41c6-9a09-b93833e17d67",
        "_uuid": "b282f12d827108a5f5c1c29bde2e5406e6aae422"
      },
      "cell_type": "markdown",
      "source": "**Submission**"
    },
    {
      "metadata": {
        "_cell_guid": "d21b3d81-f8fa-4cb1-9a7b-85c7143cf3c1",
        "_uuid": "368b2d672cfe8d438c4a7bde15fb6936e68d67bb",
        "collapsed": true,
        "trusted": true
      },
      "cell_type": "code",
      "source": "best_model = models[2][\"best_model\"]\nholdout_data = holdout[best_columns]\npredictions = best_model.predict(holdout_data)\n\nholdout_ids = holdout[\"PassengerId\"]\nsubmission_df = {\"PassengerId\": holdout_ids,\n                 \"Survived\": predictions}\nsubmission = pd.DataFrame(submission_df)\nsubmission.to_csv('submission.csv', index=False)\n",
      "execution_count": 7,
      "outputs": []
    },
    {
      "metadata": {
        "_cell_guid": "4df3353a-01c6-474c-b3d2-547bb0cfa396",
        "_uuid": "9ded50eaeb45edc35b85c36990e1ae4c96d1ea54",
        "collapsed": true,
        "trusted": true
      },
      "cell_type": "code",
      "source": "",
      "execution_count": null,
      "outputs": []
    }
  ],
  "metadata": {
    "kernelspec": {
      "display_name": "Python 3",
      "language": "python",
      "name": "python3"
    },
    "language_info": {
      "name": "python",
      "version": "3.6.4",
      "mimetype": "text/x-python",
      "codemirror_mode": {
        "name": "ipython",
        "version": 3
      },
      "pygments_lexer": "ipython3",
      "nbconvert_exporter": "python",
      "file_extension": ".py"
    }
  },
  "nbformat": 4,
  "nbformat_minor": 1
}