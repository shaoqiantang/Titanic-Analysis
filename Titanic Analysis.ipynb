{
  "cells": [
    {
      "metadata": {
        "_cell_guid": "cb1d7edb-4450-427f-98b4-4aee5c3713e3",
        "_uuid": "2fecf9bc6959cf070c2feea4573f1f61d2ccbe4c",
        "trusted": true
      },
      "cell_type": "code",
      "source": "# This Python 3 environment comes with many helpful analytics libraries installed\n# It is defined by the kaggle/python docker image: https://github.com/kaggle/docker-python\n# For example, here's several helpful packages to load in \n\nimport numpy as np # linear algebra\nimport pandas as pd # data processing, CSV file I/O (e.g. pd.read_csv)\n\n# Input data files are available in the \"../input/\" directory.\n# For example, running this (by clicking run or pressing Shift+Enter) will list the files in the input directory\n\nfrom subprocess import check_output\nprint(check_output([\"ls\", \"../input\"]).decode(\"utf8\"))\n\n# Any results you write to the current directory are saved as output.\n\ntrain = pd.read_csv('../input/train.csv')\nholdout = pd.read_csv('../input/test.csv')",
      "execution_count": 8,
      "outputs": [
        {
          "output_type": "stream",
          "text": "gender_submission.csv\ntest.csv\ntrain.csv\n\n",
          "name": "stdout"
        }
      ]
    },
    {
      "metadata": {
        "_uuid": "b83c125b1dfe29477985158b139a5f35cb312a8e"
      },
      "cell_type": "markdown",
      "source": "**Dataset Overview**"
    },
    {
      "metadata": {
        "trusted": true,
        "_uuid": "8d5a9824a6f8fe4162b92d4384e999675b6ffaa6"
      },
      "cell_type": "code",
      "source": "train.head()",
      "execution_count": 9,
      "outputs": [
        {
          "output_type": "execute_result",
          "execution_count": 9,
          "data": {
            "text/plain": "   PassengerId  Survived  Pclass  \\\n0            1         0       3   \n1            2         1       1   \n2            3         1       3   \n3            4         1       1   \n4            5         0       3   \n\n                                                Name     Sex   Age  SibSp  \\\n0                            Braund, Mr. Owen Harris    male  22.0      1   \n1  Cumings, Mrs. John Bradley (Florence Briggs Th...  female  38.0      1   \n2                             Heikkinen, Miss. Laina  female  26.0      0   \n3       Futrelle, Mrs. Jacques Heath (Lily May Peel)  female  35.0      1   \n4                           Allen, Mr. William Henry    male  35.0      0   \n\n   Parch            Ticket     Fare Cabin Embarked  \n0      0         A/5 21171   7.2500   NaN        S  \n1      0          PC 17599  71.2833   C85        C  \n2      0  STON/O2. 3101282   7.9250   NaN        S  \n3      0            113803  53.1000  C123        S  \n4      0            373450   8.0500   NaN        S  ",
            "text/html": "<div>\n<style>\n    .dataframe thead tr:only-child th {\n        text-align: right;\n    }\n\n    .dataframe thead th {\n        text-align: left;\n    }\n\n    .dataframe tbody tr th {\n        vertical-align: top;\n    }\n</style>\n<table border=\"1\" class=\"dataframe\">\n  <thead>\n    <tr style=\"text-align: right;\">\n      <th></th>\n      <th>PassengerId</th>\n      <th>Survived</th>\n      <th>Pclass</th>\n      <th>Name</th>\n      <th>Sex</th>\n      <th>Age</th>\n      <th>SibSp</th>\n      <th>Parch</th>\n      <th>Ticket</th>\n      <th>Fare</th>\n      <th>Cabin</th>\n      <th>Embarked</th>\n    </tr>\n  </thead>\n  <tbody>\n    <tr>\n      <th>0</th>\n      <td>1</td>\n      <td>0</td>\n      <td>3</td>\n      <td>Braund, Mr. Owen Harris</td>\n      <td>male</td>\n      <td>22.0</td>\n      <td>1</td>\n      <td>0</td>\n      <td>A/5 21171</td>\n      <td>7.2500</td>\n      <td>NaN</td>\n      <td>S</td>\n    </tr>\n    <tr>\n      <th>1</th>\n      <td>2</td>\n      <td>1</td>\n      <td>1</td>\n      <td>Cumings, Mrs. John Bradley (Florence Briggs Th...</td>\n      <td>female</td>\n      <td>38.0</td>\n      <td>1</td>\n      <td>0</td>\n      <td>PC 17599</td>\n      <td>71.2833</td>\n      <td>C85</td>\n      <td>C</td>\n    </tr>\n    <tr>\n      <th>2</th>\n      <td>3</td>\n      <td>1</td>\n      <td>3</td>\n      <td>Heikkinen, Miss. Laina</td>\n      <td>female</td>\n      <td>26.0</td>\n      <td>0</td>\n      <td>0</td>\n      <td>STON/O2. 3101282</td>\n      <td>7.9250</td>\n      <td>NaN</td>\n      <td>S</td>\n    </tr>\n    <tr>\n      <th>3</th>\n      <td>4</td>\n      <td>1</td>\n      <td>1</td>\n      <td>Futrelle, Mrs. Jacques Heath (Lily May Peel)</td>\n      <td>female</td>\n      <td>35.0</td>\n      <td>1</td>\n      <td>0</td>\n      <td>113803</td>\n      <td>53.1000</td>\n      <td>C123</td>\n      <td>S</td>\n    </tr>\n    <tr>\n      <th>4</th>\n      <td>5</td>\n      <td>0</td>\n      <td>3</td>\n      <td>Allen, Mr. William Henry</td>\n      <td>male</td>\n      <td>35.0</td>\n      <td>0</td>\n      <td>0</td>\n      <td>373450</td>\n      <td>8.0500</td>\n      <td>NaN</td>\n      <td>S</td>\n    </tr>\n  </tbody>\n</table>\n</div>"
          },
          "metadata": {}
        }
      ]
    },
    {
      "metadata": {
        "collapsed": true,
        "trusted": true,
        "_uuid": "45907605b32b1cf70a23651b5676da0eccacf96b"
      },
      "cell_type": "markdown",
      "source": "**Preprocessing tha data**"
    },
    {
      "metadata": {
        "trusted": true,
        "collapsed": true,
        "_uuid": "f79e3fd28ce2d8d22ab5f1b7a314e0b0b71b1974"
      },
      "cell_type": "code",
      "source": "def preprocess(df):\n# Missing data\n    df[\"Fare\"] = df[\"Fare\"].fillna(train[\"Fare\"].mean())\n    df[\"Embarked\"] = df[\"Embarked\"].fillna(\"S\")\n    \n# Age\n    df[\"Age\"] = df[\"Age\"].fillna(-0.5)\n    cut_points = [-1,0,5,12,18,35,60,100]\n    label_names = [\"Missing\",\"Infant\",\"Child\",\"Teenager\",\"Young Adult\",\"Adult\",\"Senior\"]\n    df[\"Age_categories\"] = pd.cut(df[\"Age\"],cut_points,labels=label_names)\n    \n# Fare\n    cut_points = [-1,12,50,100,1000]\n    label_names = [\"0-12\",\"12-50\",\"50-100\",\"100+\"]\n    df[\"Fare_categories\"] = pd.cut(df[\"Fare\"],cut_points,labels=label_names)\n    \n# Cabin\n    df[\"Cabin_type\"] = df[\"Cabin\"].str[0]\n    df[\"Cabin_type\"] = df[\"Cabin_type\"].fillna(\"Unknown\")\n    df = df.drop('Cabin',axis=1)\n    \n    return df\n\ndef create_dummies(df,column_name):\n    dummies = pd.get_dummies(df[column_name],prefix=column_name)\n    df = pd.concat([df,dummies],axis=1)\n    return df",
      "execution_count": 10,
      "outputs": []
    },
    {
      "metadata": {
        "trusted": true,
        "_uuid": "5913d4c63278d9e67130f9b18a231f67b9974aa6"
      },
      "cell_type": "code",
      "source": "def preprocess2(df):\n    df = preprocess(df)\n\n    for col in [\"Age_categories\",\"Fare_categories\",\n                \"Cabin_type\",\"Sex\"]:\n        df = create_dummies(df,col)\n    \n    return df\n\ntrain = preprocess2(train)\nholdout = preprocess2(holdout)",
      "execution_count": 12,
      "outputs": []
    },
    {
      "metadata": {
        "_uuid": "211c27e08d6d7fecf6ba92703d8eff85d8537c32"
      },
      "cell_type": "markdown",
      "source": "**Selecting the Best-Performing Features**"
    },
    {
      "metadata": {
        "trusted": true,
        "_uuid": "7e2f8ec326a93e3b5ac0996753dae4c0f764d9f2"
      },
      "cell_type": "code",
      "source": "from sklearn.ensemble import RandomForestClassifier\nfrom sklearn.feature_selection import RFECV\n# select numerical columns and remove columns with null value\ntrain = train.select_dtypes([np.number]).dropna(axis = 1)\nall_X = train.drop([\"PassengerId\",\"Survived\"], axis = 1)\nall_y = train[\"Survived\"]\n\nclf = RandomForestClassifier(random_state = 1)\nselector = RFECV(clf, cv = 10)\nselector.fit(all_X, all_y)\n\nbest_columns = list(all_X.columns[selector.support_])\nprint(best_columns)",
      "execution_count": 14,
      "outputs": [
        {
          "output_type": "stream",
          "text": "['Pclass', 'Age', 'SibSp', 'Parch', 'Fare', 'Age_categories_Missing', 'Age_categories_Infant', 'Age_categories_Child', 'Age_categories_Teenager', 'Age_categories_Young Adult', 'Age_categories_Adult', 'Fare_categories_0-12', 'Fare_categories_12-50', 'Fare_categories_50-100', 'Cabin_type_B', 'Cabin_type_E', 'Cabin_type_Unknown', 'Sex_female', 'Sex_male']\n",
          "name": "stdout"
        }
      ]
    },
    {
      "metadata": {
        "_uuid": "df5b70d2af885a4bf4beca543f2d8be74127e9eb"
      },
      "cell_type": "markdown",
      "source": "**Selecting and Tuning Different Algorithms**"
    },
    {
      "metadata": {
        "trusted": true,
        "_uuid": "655dc05527a8737523aead6f98e79253bcad3b34"
      },
      "cell_type": "code",
      "source": "from sklearn.linear_model import LogisticRegression\nfrom sklearn.neighbors import KNeighborsClassifier\nfrom sklearn.model_selection import GridSearchCV\n\nall_X = train[best_columns]\nall_y = train[\"Survived\"]\n\nmodels = [\n        {\n            \"name\": \"LogisticRegression\",\n            \"estimator\": LogisticRegression(),\n            \"hyperparameters\":\n                {\n                    \"solver\": [\"newton-cg\", \"lbfgs\", \"liblinear\"]\n                }\n        },\n        {\n            \"name\": \"KNeighborsClassifier\",\n            \"estimator\": KNeighborsClassifier(),\n            \"hyperparameters\":\n                {\n                    \"n_neighbors\": range(1,20,2),\n                    \"weights\": [\"distance\", \"uniform\"],\n                    \"algorithm\": [\"ball_tree\", \"kd_tree\", \"brute\"],\n                    \"p\": [1,2]\n                }\n        },\n        {\n            \"name\": \"RandomForestClassifier\",\n            \"estimator\": RandomForestClassifier(random_state=1),\n            \"hyperparameters\":\n                {\n                    \"n_estimators\": [4, 6, 9],\n                    \"criterion\": [\"entropy\", \"gini\"],\n                    \"max_depth\": [2, 5, 10],\n                    \"max_features\": [\"log2\", \"sqrt\"],\n                    \"min_samples_leaf\": [1, 5, 8],\n                    \"min_samples_split\": [2, 3, 5]\n\n                }\n        }\n    ]\n\nfor model in models:\n    print(model[\"name\"])\n    print('-'*len(model[\"name\"]))\n    \n    grid = GridSearchCV(model[\"estimator\"],\n                        param_grid=model[\"hyperparameters\"],\n                        cv=10)\n    grid.fit(all_X, all_y)\n    model[\"best_params\"] = grid.best_params_\n    model[\"best_score\"] = grid.best_score_\n    model[\"best_model\"] = grid.best_estimator_\n    \n    print(\"Best Score: {}\".format(model[\"best_score\"]))\n    print(\"Best Params: {}\".format(model[\"best_params\"]))",
      "execution_count": 19,
      "outputs": [
        {
          "output_type": "stream",
          "text": "LogisticRegression\n------------------\nBest Score: 0.8013468013468014\nBest Params: {'solver': 'newton-cg'}\nKNeighborsClassifier\n--------------------\nBest Score: 0.7654320987654321\nBest Params: {'algorithm': 'kd_tree', 'n_neighbors': 11, 'p': 1, 'weights': 'distance'}\nRandomForestClassifier\n----------------------\nBest Score: 0.8316498316498316\nBest Params: {'criterion': 'gini', 'max_depth': 10, 'max_features': 'log2', 'min_samples_leaf': 1, 'min_samples_split': 5, 'n_estimators': 9}\n",
          "name": "stdout"
        }
      ]
    },
    {
      "metadata": {
        "_uuid": "0e438bc68b468383d518730a32da7b6512b4be52"
      },
      "cell_type": "markdown",
      "source": "RandomForest model seems to be the best in this case."
    },
    {
      "metadata": {
        "_uuid": "299632c7bbb79f1ac2f97f745f7e0e3ec474a838"
      },
      "cell_type": "markdown",
      "source": "**Submission**"
    },
    {
      "metadata": {
        "trusted": true,
        "_uuid": "5f9bf0f2dd1e50323b1e9867dbc0c8e6b02e585d"
      },
      "cell_type": "code",
      "source": "best_model = models[2][\"best_model\"]\nholdout_data = holdout[best_columns]\npredictions = best_model.predict(holdout_data)\n\nholdout_ids = holdout[\"PassengerId\"]\nsubmission_df = {\"PassengerId\": holdout_ids,\n                 \"Survived\": predictions}\nsubmission = pd.DataFrame(submission_df)\nsubmission.to_csv('submission.csv', index=False)\n",
      "execution_count": 22,
      "outputs": []
    },
    {
      "metadata": {
        "trusted": true,
        "collapsed": true,
        "_uuid": "d26302e3ac7a575b0c06c96fb753541beb65cef9"
      },
      "cell_type": "code",
      "source": "",
      "execution_count": null,
      "outputs": []
    }
  ],
  "metadata": {
    "kernelspec": {
      "display_name": "Python 3",
      "language": "python",
      "name": "python3"
    },
    "language_info": {
      "name": "python",
      "version": "3.6.4",
      "mimetype": "text/x-python",
      "codemirror_mode": {
        "name": "ipython",
        "version": 3
      },
      "pygments_lexer": "ipython3",
      "nbconvert_exporter": "python",
      "file_extension": ".py"
    }
  },
  "nbformat": 4,
  "nbformat_minor": 1
}